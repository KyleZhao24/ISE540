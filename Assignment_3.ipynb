{
  "nbformat": 4,
  "nbformat_minor": 0,
  "metadata": {
    "colab": {
      "provenance": [],
      "mount_file_id": "1ZrXDN3L77ZHPnhVlHg1CBnqKLEyus4U4",
      "authorship_tag": "ABX9TyMV3DxnwNkztj9Ln6VUZXgz",
      "include_colab_link": true
    },
    "kernelspec": {
      "name": "python3",
      "display_name": "Python 3"
    },
    "language_info": {
      "name": "python"
    }
  },
  "cells": [
    {
      "cell_type": "markdown",
      "metadata": {
        "id": "view-in-github",
        "colab_type": "text"
      },
      "source": [
        "<a href=\"https://colab.research.google.com/github/KyleZhao24/ISE540/blob/main/Assignment_3.ipynb\" target=\"_parent\"><img src=\"https://colab.research.google.com/assets/colab-badge.svg\" alt=\"Open In Colab\"/></a>"
      ]
    },
    {
      "cell_type": "markdown",
      "source": [
        "Kaiyu Zhao 5948162468"
      ],
      "metadata": {
        "id": "3-pFMB7c9OOq"
      }
    },
    {
      "cell_type": "code",
      "execution_count": null,
      "metadata": {
        "id": "EtSRZLmO7nf4"
      },
      "outputs": [],
      "source": [
        "import pandas as pd\n",
        "import numpy as np\n",
        "import matplotlib.pyplot as plt\n",
        "from sklearn.decomposition import PCA\n",
        "from sklearn.preprocessing import StandardScaler\n",
        "from sklearn.model_selection import train_test_split\n",
        "from sklearn.linear_model import SGDRegressor\n",
        "from sklearn.linear_model import LogisticRegression\n",
        "from sklearn.ensemble import RandomForestClassifier\n",
        "from sklearn.tree import DecisionTreeClassifier\n",
        "from sklearn.svm import SVC\n",
        "from sklearn.neighbors import KNeighborsClassifier\n",
        "from sklearn.neural_network import MLPClassifier\n",
        "from sklearn.metrics import confusion_matrix, accuracy_score, precision_score, recall_score, f1_score"
      ]
    },
    {
      "cell_type": "code",
      "source": [
        "# define some global variables\n",
        "percent_df_train = 0.01 #1."
      ],
      "metadata": {
        "id": "bs7EJkvRfa4L"
      },
      "execution_count": null,
      "outputs": []
    },
    {
      "cell_type": "markdown",
      "source": [
        "# 1. Loading Large Data (Read the first 25% of the training data)"
      ],
      "metadata": {
        "id": "8hGLPqQAWN1b"
      }
    },
    {
      "cell_type": "code",
      "source": [
        "# Determine the total number of lines in the file:\n",
        "with open('/content/drive/MyDrive/USC Analytics/ISE 540 Text Analytics/Assignment 3/train.csv', 'r') as f:\n",
        "    total_rows = sum(1 for line in f)\n",
        "\n",
        "# Calculate the number of rows at percent_df_train:\n",
        "percent_rows = int(percent_df_train * total_rows)\n",
        "\n",
        "# Read the first percent_df_train of the training data:\n",
        "df_train = pd.read_csv('/content/drive/MyDrive/USC Analytics/ISE 540 Text Analytics/Assignment 3/train.csv', nrows=percent_rows)\n",
        "\n",
        "\n",
        "df_test = pd.read_csv('/content/drive/MyDrive/USC Analytics/ISE 540 Text Analytics/Assignment 3/test.csv')\n",
        "\n",
        "print(df_train.head())\n",
        "df_train.info()\n",
        "\n",
        "print(df_test.head())\n",
        "df_test.info()"
      ],
      "metadata": {
        "id": "LY68YMx-9djS",
        "colab": {
          "base_uri": "https://localhost:8080/"
        },
        "outputId": "0ab2eabf-3f32-4a2d-ed62-65196247583d"
      },
      "execution_count": null,
      "outputs": [
        {
          "metadata": {
            "tags": null
          },
          "name": "stderr",
          "output_type": "stream",
          "text": [
            "<ipython-input-9-2686c1a22529>:9: DtypeWarning: Columns (28) have mixed types. Specify dtype option on import or set low_memory=False.\n",
            "  df_train = pd.read_csv('/content/drive/MyDrive/USC Analytics/ISE 540 Text Analytics/Assignment 3/train.csv', nrows=percent_rows)\n"
          ]
        },
        {
          "metadata": {
            "tags": null
          },
          "name": "stdout",
          "output_type": "stream",
          "text": [
            "                  MachineIdentifier   ProductName EngineVersion  \\\n",
            "0  0000028988387b115f69f31a3bf04f09  win8defender   1.1.15100.1   \n",
            "1  000007535c3f730efa9ea0b7ef1bd645  win8defender   1.1.14600.4   \n",
            "2  000007905a28d863f6d0d597892cd692  win8defender   1.1.15100.1   \n",
            "3  00000b11598a75ea8ba1beea8459149f  win8defender   1.1.15100.1   \n",
            "4  000014a5f00daa18e76b81417eeb99fc  win8defender   1.1.15100.1   \n",
            "\n",
            "        AppVersion  AvSigVersion  IsBeta  RtpStateBitfield  IsSxsPassiveMode  \\\n",
            "0  4.18.1807.18075  1.273.1735.0       0               7.0                 0   \n",
            "1     4.13.17134.1    1.263.48.0       0               7.0                 0   \n",
            "2  4.18.1807.18075  1.273.1341.0       0               7.0                 0   \n",
            "3  4.18.1807.18075  1.273.1527.0       0               7.0                 0   \n",
            "4  4.18.1807.18075  1.273.1379.0       0               7.0                 0   \n",
            "\n",
            "   DefaultBrowsersIdentifier  AVProductStatesIdentifier  ...  \\\n",
            "0                        NaN                    53447.0  ...   \n",
            "1                        NaN                    53447.0  ...   \n",
            "2                        NaN                    53447.0  ...   \n",
            "3                        NaN                    53447.0  ...   \n",
            "4                        NaN                    53447.0  ...   \n",
            "\n",
            "   Census_FirmwareVersionIdentifier  Census_IsSecureBootEnabled  \\\n",
            "0                           36144.0                           0   \n",
            "1                           57858.0                           0   \n",
            "2                           52682.0                           0   \n",
            "3                           20050.0                           0   \n",
            "4                           19844.0                           0   \n",
            "\n",
            "   Census_IsWIMBootEnabled  Census_IsVirtualDevice  Census_IsTouchEnabled  \\\n",
            "0                      NaN                     0.0                      0   \n",
            "1                      NaN                     0.0                      0   \n",
            "2                      NaN                     0.0                      0   \n",
            "3                      NaN                     0.0                      0   \n",
            "4                      0.0                     0.0                      0   \n",
            "\n",
            "   Census_IsPenCapable  Census_IsAlwaysOnAlwaysConnectedCapable  Wdft_IsGamer  \\\n",
            "0                    0                                      0.0           0.0   \n",
            "1                    0                                      0.0           0.0   \n",
            "2                    0                                      0.0           0.0   \n",
            "3                    0                                      0.0           0.0   \n",
            "4                    0                                      0.0           0.0   \n",
            "\n",
            "  Wdft_RegionIdentifier HasDetections  \n",
            "0                  10.0             0  \n",
            "1                   8.0             0  \n",
            "2                   3.0             0  \n",
            "3                   3.0             1  \n",
            "4                   1.0             1  \n",
            "\n",
            "[5 rows x 83 columns]\n",
            "<class 'pandas.core.frame.DataFrame'>\n",
            "RangeIndex: 89214 entries, 0 to 89213\n",
            "Data columns (total 83 columns):\n",
            " #   Column                                             Non-Null Count  Dtype  \n",
            "---  ------                                             --------------  -----  \n",
            " 0   MachineIdentifier                                  89214 non-null  object \n",
            " 1   ProductName                                        89214 non-null  object \n",
            " 2   EngineVersion                                      89214 non-null  object \n",
            " 3   AppVersion                                         89214 non-null  object \n",
            " 4   AvSigVersion                                       89214 non-null  object \n",
            " 5   IsBeta                                             89214 non-null  int64  \n",
            " 6   RtpStateBitfield                                   88908 non-null  float64\n",
            " 7   IsSxsPassiveMode                                   89214 non-null  int64  \n",
            " 8   DefaultBrowsersIdentifier                          4396 non-null   float64\n",
            " 9   AVProductStatesIdentifier                          88876 non-null  float64\n",
            " 10  AVProductsInstalled                                88876 non-null  float64\n",
            " 11  AVProductsEnabled                                  88876 non-null  float64\n",
            " 12  HasTpm                                             89214 non-null  int64  \n",
            " 13  CountryIdentifier                                  89214 non-null  int64  \n",
            " 14  CityIdentifier                                     86000 non-null  float64\n",
            " 15  OrganizationIdentifier                             61936 non-null  float64\n",
            " 16  GeoNameIdentifier                                  89213 non-null  float64\n",
            " 17  LocaleEnglishNameIdentifier                        89214 non-null  int64  \n",
            " 18  Platform                                           89214 non-null  object \n",
            " 19  Processor                                          89214 non-null  object \n",
            " 20  OsVer                                              89214 non-null  object \n",
            " 21  OsBuild                                            89214 non-null  int64  \n",
            " 22  OsSuite                                            89214 non-null  int64  \n",
            " 23  OsPlatformSubRelease                               89214 non-null  object \n",
            " 24  OsBuildLab                                         89213 non-null  object \n",
            " 25  SkuEdition                                         89214 non-null  object \n",
            " 26  IsProtected                                        88878 non-null  float64\n",
            " 27  AutoSampleOptIn                                    89214 non-null  int64  \n",
            " 28  PuaMode                                            26 non-null     object \n",
            " 29  SMode                                              83888 non-null  float64\n",
            " 30  IeVerIdentifier                                    88610 non-null  float64\n",
            " 31  SmartScreen                                        57347 non-null  object \n",
            " 32  Firewall                                           88243 non-null  float64\n",
            " 33  UacLuaenable                                       89112 non-null  float64\n",
            " 34  Census_MDC2FormFactor                              89214 non-null  object \n",
            " 35  Census_DeviceFamily                                89214 non-null  object \n",
            " 36  Census_OEMNameIdentifier                           88267 non-null  float64\n",
            " 37  Census_OEMModelIdentifier                          88180 non-null  float64\n",
            " 38  Census_ProcessorCoreCount                          88787 non-null  float64\n",
            " 39  Census_ProcessorManufacturerIdentifier             88787 non-null  float64\n",
            " 40  Census_ProcessorModelIdentifier                    88786 non-null  float64\n",
            " 41  Census_ProcessorClass                              370 non-null    object \n",
            " 42  Census_PrimaryDiskTotalCapacity                    88660 non-null  float64\n",
            " 43  Census_PrimaryDiskTypeName                         89067 non-null  object \n",
            " 44  Census_SystemVolumeTotalCapacity                   88660 non-null  float64\n",
            " 45  Census_HasOpticalDiskDrive                         89214 non-null  int64  \n",
            " 46  Census_TotalPhysicalRAM                            88390 non-null  float64\n",
            " 47  Census_ChassisTypeName                             89209 non-null  object \n",
            " 48  Census_InternalPrimaryDiagonalDisplaySizeInInches  88748 non-null  float64\n",
            " 49  Census_InternalPrimaryDisplayResolutionHorizontal  88749 non-null  float64\n",
            " 50  Census_InternalPrimaryDisplayResolutionVertical    88749 non-null  float64\n",
            " 51  Census_PowerPlatformRoleName                       89214 non-null  object \n",
            " 52  Census_InternalBatteryType                         25689 non-null  object \n",
            " 53  Census_InternalBatteryNumberOfCharges              86460 non-null  float64\n",
            " 54  Census_OSVersion                                   89214 non-null  object \n",
            " 55  Census_OSArchitecture                              89214 non-null  object \n",
            " 56  Census_OSBranch                                    89214 non-null  object \n",
            " 57  Census_OSBuildNumber                               89214 non-null  int64  \n",
            " 58  Census_OSBuildRevision                             89214 non-null  int64  \n",
            " 59  Census_OSEdition                                   89214 non-null  object \n",
            " 60  Census_OSSkuName                                   89214 non-null  object \n",
            " 61  Census_OSInstallTypeName                           89214 non-null  object \n",
            " 62  Census_OSInstallLanguageIdentifier                 88613 non-null  float64\n",
            " 63  Census_OSUILocaleIdentifier                        89214 non-null  int64  \n",
            " 64  Census_OSWUAutoUpdateOptionsName                   89214 non-null  object \n",
            " 65  Census_IsPortableOperatingSystem                   89214 non-null  int64  \n",
            " 66  Census_GenuineStateName                            89214 non-null  object \n",
            " 67  Census_ActivationChannel                           89214 non-null  object \n",
            " 68  Census_IsFlightingInternal                         15027 non-null  float64\n",
            " 69  Census_IsFlightsDisabled                           87581 non-null  float64\n",
            " 70  Census_FlightRing                                  89214 non-null  object \n",
            " 71  Census_ThresholdOptIn                              32369 non-null  float64\n",
            " 72  Census_FirmwareManufacturerIdentifier              87326 non-null  float64\n",
            " 73  Census_FirmwareVersionIdentifier                   87559 non-null  float64\n",
            " 74  Census_IsSecureBootEnabled                         89214 non-null  int64  \n",
            " 75  Census_IsWIMBootEnabled                            32439 non-null  float64\n",
            " 76  Census_IsVirtualDevice                             89046 non-null  float64\n",
            " 77  Census_IsTouchEnabled                              89214 non-null  int64  \n",
            " 78  Census_IsPenCapable                                89214 non-null  int64  \n",
            " 79  Census_IsAlwaysOnAlwaysConnectedCapable            88442 non-null  float64\n",
            " 80  Wdft_IsGamer                                       86162 non-null  float64\n",
            " 81  Wdft_RegionIdentifier                              86162 non-null  float64\n",
            " 82  HasDetections                                      89214 non-null  int64  \n",
            "dtypes: float64(36), int64(17), object(30)\n",
            "memory usage: 56.5+ MB\n",
            "                  MachineIdentifier   ProductName EngineVersion  \\\n",
            "0  0000028988387b115f69f31a3bf04f09  win8defender   1.1.15100.1   \n",
            "1  000007535c3f730efa9ea0b7ef1bd645  win8defender   1.1.14600.4   \n",
            "2  000007905a28d863f6d0d597892cd692  win8defender   1.1.15100.1   \n",
            "3  00000b11598a75ea8ba1beea8459149f  win8defender   1.1.15100.1   \n",
            "4  000014a5f00daa18e76b81417eeb99fc  win8defender   1.1.15100.1   \n",
            "\n",
            "        AppVersion  AvSigVersion  IsBeta  RtpStateBitfield  IsSxsPassiveMode  \\\n",
            "0  4.18.1807.18075  1.273.1735.0       0               7.0                 0   \n",
            "1     4.13.17134.1    1.263.48.0       0               7.0                 0   \n",
            "2  4.18.1807.18075  1.273.1341.0       0               7.0                 0   \n",
            "3  4.18.1807.18075  1.273.1527.0       0               7.0                 0   \n",
            "4  4.18.1807.18075  1.273.1379.0       0               7.0                 0   \n",
            "\n",
            "   DefaultBrowsersIdentifier  AVProductStatesIdentifier  ...  \\\n",
            "0                        NaN                    53447.0  ...   \n",
            "1                        NaN                    53447.0  ...   \n",
            "2                        NaN                    53447.0  ...   \n",
            "3                        NaN                    53447.0  ...   \n",
            "4                        NaN                    53447.0  ...   \n",
            "\n",
            "   Census_FirmwareVersionIdentifier  Census_IsSecureBootEnabled  \\\n",
            "0                           36144.0                           0   \n",
            "1                           57858.0                           0   \n",
            "2                           52682.0                           0   \n",
            "3                           20050.0                           0   \n",
            "4                           19844.0                           0   \n",
            "\n",
            "   Census_IsWIMBootEnabled  Census_IsVirtualDevice  Census_IsTouchEnabled  \\\n",
            "0                      NaN                     0.0                      0   \n",
            "1                      NaN                     0.0                      0   \n",
            "2                      NaN                     0.0                      0   \n",
            "3                      NaN                     0.0                      0   \n",
            "4                      0.0                     0.0                      0   \n",
            "\n",
            "   Census_IsPenCapable  Census_IsAlwaysOnAlwaysConnectedCapable  Wdft_IsGamer  \\\n",
            "0                    0                                      0.0           0.0   \n",
            "1                    0                                      0.0           0.0   \n",
            "2                    0                                      0.0           0.0   \n",
            "3                    0                                      0.0           0.0   \n",
            "4                    0                                      0.0           0.0   \n",
            "\n",
            "  Wdft_RegionIdentifier HasDetections  \n",
            "0                  10.0             0  \n",
            "1                   8.0             0  \n",
            "2                   3.0             0  \n",
            "3                   3.0             1  \n",
            "4                   1.0             1  \n",
            "\n",
            "[5 rows x 83 columns]\n",
            "<class 'pandas.core.frame.DataFrame'>\n",
            "RangeIndex: 12000 entries, 0 to 11999\n",
            "Data columns (total 83 columns):\n",
            " #   Column                                             Non-Null Count  Dtype  \n",
            "---  ------                                             --------------  -----  \n",
            " 0   MachineIdentifier                                  12000 non-null  object \n",
            " 1   ProductName                                        12000 non-null  object \n",
            " 2   EngineVersion                                      12000 non-null  object \n",
            " 3   AppVersion                                         12000 non-null  object \n",
            " 4   AvSigVersion                                       12000 non-null  object \n",
            " 5   IsBeta                                             12000 non-null  int64  \n",
            " 6   RtpStateBitfield                                   11961 non-null  float64\n",
            " 7   IsSxsPassiveMode                                   12000 non-null  int64  \n",
            " 8   DefaultBrowsersIdentifier                          545 non-null    float64\n",
            " 9   AVProductStatesIdentifier                          11960 non-null  float64\n",
            " 10  AVProductsInstalled                                11960 non-null  float64\n",
            " 11  AVProductsEnabled                                  11960 non-null  float64\n",
            " 12  HasTpm                                             12000 non-null  int64  \n",
            " 13  CountryIdentifier                                  12000 non-null  int64  \n",
            " 14  CityIdentifier                                     11559 non-null  float64\n",
            " 15  OrganizationIdentifier                             8362 non-null   float64\n",
            " 16  GeoNameIdentifier                                  12000 non-null  int64  \n",
            " 17  LocaleEnglishNameIdentifier                        12000 non-null  int64  \n",
            " 18  Platform                                           12000 non-null  object \n",
            " 19  Processor                                          12000 non-null  object \n",
            " 20  OsVer                                              12000 non-null  object \n",
            " 21  OsBuild                                            12000 non-null  int64  \n",
            " 22  OsSuite                                            12000 non-null  int64  \n",
            " 23  OsPlatformSubRelease                               12000 non-null  object \n",
            " 24  OsBuildLab                                         12000 non-null  object \n",
            " 25  SkuEdition                                         12000 non-null  object \n",
            " 26  IsProtected                                        11960 non-null  float64\n",
            " 27  AutoSampleOptIn                                    12000 non-null  int64  \n",
            " 28  PuaMode                                            4 non-null      object \n",
            " 29  SMode                                              11276 non-null  float64\n",
            " 30  IeVerIdentifier                                    11907 non-null  float64\n",
            " 31  SmartScreen                                        7669 non-null   object \n",
            " 32  Firewall                                           11876 non-null  float64\n",
            " 33  UacLuaenable                                       11989 non-null  float64\n",
            " 34  Census_MDC2FormFactor                              12000 non-null  object \n",
            " 35  Census_DeviceFamily                                12000 non-null  object \n",
            " 36  Census_OEMNameIdentifier                           11871 non-null  float64\n",
            " 37  Census_OEMModelIdentifier                          11856 non-null  float64\n",
            " 38  Census_ProcessorCoreCount                          11946 non-null  float64\n",
            " 39  Census_ProcessorManufacturerIdentifier             11946 non-null  float64\n",
            " 40  Census_ProcessorModelIdentifier                    11946 non-null  float64\n",
            " 41  Census_ProcessorClass                              51 non-null     object \n",
            " 42  Census_PrimaryDiskTotalCapacity                    11930 non-null  float64\n",
            " 43  Census_PrimaryDiskTypeName                         11980 non-null  object \n",
            " 44  Census_SystemVolumeTotalCapacity                   11930 non-null  float64\n",
            " 45  Census_HasOpticalDiskDrive                         12000 non-null  int64  \n",
            " 46  Census_TotalPhysicalRAM                            11888 non-null  float64\n",
            " 47  Census_ChassisTypeName                             12000 non-null  object \n",
            " 48  Census_InternalPrimaryDiagonalDisplaySizeInInches  11938 non-null  float64\n",
            " 49  Census_InternalPrimaryDisplayResolutionHorizontal  11938 non-null  float64\n",
            " 50  Census_InternalPrimaryDisplayResolutionVertical    11938 non-null  float64\n",
            " 51  Census_PowerPlatformRoleName                       12000 non-null  object \n",
            " 52  Census_InternalBatteryType                         3422 non-null   object \n",
            " 53  Census_InternalBatteryNumberOfCharges              11624 non-null  float64\n",
            " 54  Census_OSVersion                                   12000 non-null  object \n",
            " 55  Census_OSArchitecture                              12000 non-null  object \n",
            " 56  Census_OSBranch                                    12000 non-null  object \n",
            " 57  Census_OSBuildNumber                               12000 non-null  int64  \n",
            " 58  Census_OSBuildRevision                             12000 non-null  int64  \n",
            " 59  Census_OSEdition                                   12000 non-null  object \n",
            " 60  Census_OSSkuName                                   12000 non-null  object \n",
            " 61  Census_OSInstallTypeName                           12000 non-null  object \n",
            " 62  Census_OSInstallLanguageIdentifier                 11905 non-null  float64\n",
            " 63  Census_OSUILocaleIdentifier                        12000 non-null  int64  \n",
            " 64  Census_OSWUAutoUpdateOptionsName                   12000 non-null  object \n",
            " 65  Census_IsPortableOperatingSystem                   12000 non-null  int64  \n",
            " 66  Census_GenuineStateName                            12000 non-null  object \n",
            " 67  Census_ActivationChannel                           12000 non-null  object \n",
            " 68  Census_IsFlightingInternal                         2002 non-null   float64\n",
            " 69  Census_IsFlightsDisabled                           11778 non-null  float64\n",
            " 70  Census_FlightRing                                  12000 non-null  object \n",
            " 71  Census_ThresholdOptIn                              4328 non-null   float64\n",
            " 72  Census_FirmwareManufacturerIdentifier              11746 non-null  float64\n",
            " 73  Census_FirmwareVersionIdentifier                   11770 non-null  float64\n",
            " 74  Census_IsSecureBootEnabled                         12000 non-null  int64  \n",
            " 75  Census_IsWIMBootEnabled                            4340 non-null   float64\n",
            " 76  Census_IsVirtualDevice                             11981 non-null  float64\n",
            " 77  Census_IsTouchEnabled                              12000 non-null  int64  \n",
            " 78  Census_IsPenCapable                                12000 non-null  int64  \n",
            " 79  Census_IsAlwaysOnAlwaysConnectedCapable            11906 non-null  float64\n",
            " 80  Wdft_IsGamer                                       11623 non-null  float64\n",
            " 81  Wdft_RegionIdentifier                              11623 non-null  float64\n",
            " 82  HasDetections                                      12000 non-null  int64  \n",
            "dtypes: float64(35), int64(18), object(30)\n",
            "memory usage: 7.6+ MB\n"
          ]
        }
      ]
    },
    {
      "cell_type": "markdown",
      "source": [
        "# 2. Data Preprocessing"
      ],
      "metadata": {
        "id": "oD7TxatZ9LIU"
      }
    },
    {
      "cell_type": "markdown",
      "source": [
        "## 2.1. Data Cleaning"
      ],
      "metadata": {
        "id": "keuXthlw9y11"
      }
    },
    {
      "cell_type": "markdown",
      "source": [
        "## 2.2.Feature Selection (Using PCA)"
      ],
      "metadata": {
        "id": "C5KjPapXFjYm"
      }
    },
    {
      "cell_type": "code",
      "source": [
        "# # 1. Separate features and target variables\n",
        "# X = df_train.drop('HasDetections', axis=1)\n",
        "# y = df_train['HasDetections']\n",
        "\n",
        "# # 2. Feature scaling\n",
        "# scaler = StandardScaler()\n",
        "# X_scaled = scaler.fit_transform(X)\n",
        "\n",
        "# # 3. Apply PCA\n",
        "# pca = PCA()\n",
        "# X_pca = pca.fit_transform(X_scaled)\n",
        "\n",
        "# # Output the proportion of variance explained by each principal component\n",
        "# print(\"Explained variance ratio:\", pca.explained_variance_ratio_)\n",
        "\n",
        "\n",
        "\n"
      ],
      "metadata": {
        "id": "SrJrr5fVFoh7"
      },
      "execution_count": null,
      "outputs": []
    },
    {
      "cell_type": "code",
      "source": [
        "df_train = df_train.dropna()\n",
        "X_train = df_train[['Census_SystemVolumeTotalCapacity','Census_ProcessorManufacturerIdentifier']]\n",
        "y_train = df_train['HasDetections']\n",
        "\n",
        "df_test = df_test.dropna()\n",
        "X_test = df_test[['Census_SystemVolumeTotalCapacity','Census_ProcessorManufacturerIdentifier']]\n",
        "y_test = df_test['HasDetections']"
      ],
      "metadata": {
        "id": "AjOS_VDxdTJ2"
      },
      "execution_count": null,
      "outputs": []
    },
    {
      "cell_type": "markdown",
      "source": [
        "# 3. Model Selection and Training"
      ],
      "metadata": {
        "id": "27VqbrsRFpCk"
      }
    },
    {
      "cell_type": "markdown",
      "source": [
        "## a) Logistics Regression"
      ],
      "metadata": {
        "id": "vghKlrsbL_Tx"
      }
    },
    {
      "cell_type": "code",
      "source": [
        "# 训练模型\n",
        "lr = LogisticRegression(max_iter=1000)\n",
        "lr.fit(X_train, y_train)\n",
        "\n",
        "# 预测\n",
        "y_pred = lr.predict(X_test)\n",
        "\n",
        "# 评估\n",
        "print(\"Model: Logistic Regression\")\n",
        "print(\"Confusion Matrix:\")\n",
        "print(confusion_matrix(y_test, y_pred))\n",
        "print(\"Accuracy Score:\", accuracy_score(y_test, y_pred))\n",
        "print(\"Precision Score:\", precision_score(y_test, y_pred))\n",
        "print(\"Recall Score:\", recall_score(y_test, y_pred))\n",
        "print(\"F1 Score:\", f1_score(y_test, y_pred))\n"
      ],
      "metadata": {
        "id": "PY-iZMClhtMH",
        "colab": {
          "base_uri": "https://localhost:8080/",
          "height": 417
        },
        "outputId": "9cf8918b-e05f-4b15-a2be-983d7e1aab6c"
      },
      "execution_count": null,
      "outputs": [
        {
          "ename": "ValueError",
          "evalue": "ignored",
          "output_type": "error",
          "traceback": [
            "\u001b[0;31m---------------------------------------------------------------------------\u001b[0m",
            "\u001b[0;31mValueError\u001b[0m                                Traceback (most recent call last)",
            "\u001b[0;32m<ipython-input-12-ec98b54564a9>\u001b[0m in \u001b[0;36m<cell line: 3>\u001b[0;34m()\u001b[0m\n\u001b[1;32m      1\u001b[0m \u001b[0;31m# 训练模型\u001b[0m\u001b[0;34m\u001b[0m\u001b[0;34m\u001b[0m\u001b[0m\n\u001b[1;32m      2\u001b[0m \u001b[0mlr\u001b[0m \u001b[0;34m=\u001b[0m \u001b[0mLogisticRegression\u001b[0m\u001b[0;34m(\u001b[0m\u001b[0mmax_iter\u001b[0m\u001b[0;34m=\u001b[0m\u001b[0;36m1000\u001b[0m\u001b[0;34m)\u001b[0m\u001b[0;34m\u001b[0m\u001b[0;34m\u001b[0m\u001b[0m\n\u001b[0;32m----> 3\u001b[0;31m \u001b[0mlr\u001b[0m\u001b[0;34m.\u001b[0m\u001b[0mfit\u001b[0m\u001b[0;34m(\u001b[0m\u001b[0mX_train\u001b[0m\u001b[0;34m,\u001b[0m \u001b[0my_train\u001b[0m\u001b[0;34m)\u001b[0m\u001b[0;34m\u001b[0m\u001b[0;34m\u001b[0m\u001b[0m\n\u001b[0m\u001b[1;32m      4\u001b[0m \u001b[0;34m\u001b[0m\u001b[0m\n\u001b[1;32m      5\u001b[0m \u001b[0;31m# 预测\u001b[0m\u001b[0;34m\u001b[0m\u001b[0;34m\u001b[0m\u001b[0m\n",
            "\u001b[0;32m/usr/local/lib/python3.10/dist-packages/sklearn/linear_model/_logistic.py\u001b[0m in \u001b[0;36mfit\u001b[0;34m(self, X, y, sample_weight)\u001b[0m\n\u001b[1;32m   1194\u001b[0m             \u001b[0m_dtype\u001b[0m \u001b[0;34m=\u001b[0m \u001b[0;34m[\u001b[0m\u001b[0mnp\u001b[0m\u001b[0;34m.\u001b[0m\u001b[0mfloat64\u001b[0m\u001b[0;34m,\u001b[0m \u001b[0mnp\u001b[0m\u001b[0;34m.\u001b[0m\u001b[0mfloat32\u001b[0m\u001b[0;34m]\u001b[0m\u001b[0;34m\u001b[0m\u001b[0;34m\u001b[0m\u001b[0m\n\u001b[1;32m   1195\u001b[0m \u001b[0;34m\u001b[0m\u001b[0m\n\u001b[0;32m-> 1196\u001b[0;31m         X, y = self._validate_data(\n\u001b[0m\u001b[1;32m   1197\u001b[0m             \u001b[0mX\u001b[0m\u001b[0;34m,\u001b[0m\u001b[0;34m\u001b[0m\u001b[0;34m\u001b[0m\u001b[0m\n\u001b[1;32m   1198\u001b[0m             \u001b[0my\u001b[0m\u001b[0;34m,\u001b[0m\u001b[0;34m\u001b[0m\u001b[0;34m\u001b[0m\u001b[0m\n",
            "\u001b[0;32m/usr/local/lib/python3.10/dist-packages/sklearn/base.py\u001b[0m in \u001b[0;36m_validate_data\u001b[0;34m(self, X, y, reset, validate_separately, **check_params)\u001b[0m\n\u001b[1;32m    582\u001b[0m                 \u001b[0my\u001b[0m \u001b[0;34m=\u001b[0m \u001b[0mcheck_array\u001b[0m\u001b[0;34m(\u001b[0m\u001b[0my\u001b[0m\u001b[0;34m,\u001b[0m \u001b[0minput_name\u001b[0m\u001b[0;34m=\u001b[0m\u001b[0;34m\"y\"\u001b[0m\u001b[0;34m,\u001b[0m \u001b[0;34m**\u001b[0m\u001b[0mcheck_y_params\u001b[0m\u001b[0;34m)\u001b[0m\u001b[0;34m\u001b[0m\u001b[0;34m\u001b[0m\u001b[0m\n\u001b[1;32m    583\u001b[0m             \u001b[0;32melse\u001b[0m\u001b[0;34m:\u001b[0m\u001b[0;34m\u001b[0m\u001b[0;34m\u001b[0m\u001b[0m\n\u001b[0;32m--> 584\u001b[0;31m                 \u001b[0mX\u001b[0m\u001b[0;34m,\u001b[0m \u001b[0my\u001b[0m \u001b[0;34m=\u001b[0m \u001b[0mcheck_X_y\u001b[0m\u001b[0;34m(\u001b[0m\u001b[0mX\u001b[0m\u001b[0;34m,\u001b[0m \u001b[0my\u001b[0m\u001b[0;34m,\u001b[0m \u001b[0;34m**\u001b[0m\u001b[0mcheck_params\u001b[0m\u001b[0;34m)\u001b[0m\u001b[0;34m\u001b[0m\u001b[0;34m\u001b[0m\u001b[0m\n\u001b[0m\u001b[1;32m    585\u001b[0m             \u001b[0mout\u001b[0m \u001b[0;34m=\u001b[0m \u001b[0mX\u001b[0m\u001b[0;34m,\u001b[0m \u001b[0my\u001b[0m\u001b[0;34m\u001b[0m\u001b[0;34m\u001b[0m\u001b[0m\n\u001b[1;32m    586\u001b[0m \u001b[0;34m\u001b[0m\u001b[0m\n",
            "\u001b[0;32m/usr/local/lib/python3.10/dist-packages/sklearn/utils/validation.py\u001b[0m in \u001b[0;36mcheck_X_y\u001b[0;34m(X, y, accept_sparse, accept_large_sparse, dtype, order, copy, force_all_finite, ensure_2d, allow_nd, multi_output, ensure_min_samples, ensure_min_features, y_numeric, estimator)\u001b[0m\n\u001b[1;32m   1104\u001b[0m         )\n\u001b[1;32m   1105\u001b[0m \u001b[0;34m\u001b[0m\u001b[0m\n\u001b[0;32m-> 1106\u001b[0;31m     X = check_array(\n\u001b[0m\u001b[1;32m   1107\u001b[0m         \u001b[0mX\u001b[0m\u001b[0;34m,\u001b[0m\u001b[0;34m\u001b[0m\u001b[0;34m\u001b[0m\u001b[0m\n\u001b[1;32m   1108\u001b[0m         \u001b[0maccept_sparse\u001b[0m\u001b[0;34m=\u001b[0m\u001b[0maccept_sparse\u001b[0m\u001b[0;34m,\u001b[0m\u001b[0;34m\u001b[0m\u001b[0;34m\u001b[0m\u001b[0m\n",
            "\u001b[0;32m/usr/local/lib/python3.10/dist-packages/sklearn/utils/validation.py\u001b[0m in \u001b[0;36mcheck_array\u001b[0;34m(array, accept_sparse, accept_large_sparse, dtype, order, copy, force_all_finite, ensure_2d, allow_nd, ensure_min_samples, ensure_min_features, estimator, input_name)\u001b[0m\n\u001b[1;32m    929\u001b[0m         \u001b[0mn_samples\u001b[0m \u001b[0;34m=\u001b[0m \u001b[0m_num_samples\u001b[0m\u001b[0;34m(\u001b[0m\u001b[0marray\u001b[0m\u001b[0;34m)\u001b[0m\u001b[0;34m\u001b[0m\u001b[0;34m\u001b[0m\u001b[0m\n\u001b[1;32m    930\u001b[0m         \u001b[0;32mif\u001b[0m \u001b[0mn_samples\u001b[0m \u001b[0;34m<\u001b[0m \u001b[0mensure_min_samples\u001b[0m\u001b[0;34m:\u001b[0m\u001b[0;34m\u001b[0m\u001b[0;34m\u001b[0m\u001b[0m\n\u001b[0;32m--> 931\u001b[0;31m             raise ValueError(\n\u001b[0m\u001b[1;32m    932\u001b[0m                 \u001b[0;34m\"Found array with %d sample(s) (shape=%s) while a\"\u001b[0m\u001b[0;34m\u001b[0m\u001b[0;34m\u001b[0m\u001b[0m\n\u001b[1;32m    933\u001b[0m                 \u001b[0;34m\" minimum of %d is required%s.\"\u001b[0m\u001b[0;34m\u001b[0m\u001b[0;34m\u001b[0m\u001b[0m\n",
            "\u001b[0;31mValueError\u001b[0m: Found array with 0 sample(s) (shape=(0, 2)) while a minimum of 1 is required by LogisticRegression."
          ]
        }
      ]
    },
    {
      "cell_type": "markdown",
      "source": [
        "## b) Random Forest"
      ],
      "metadata": {
        "id": "UjIjhqUXMCbK"
      }
    },
    {
      "cell_type": "code",
      "source": [
        "# 训练模型\n",
        "rf = RandomForestClassifier()\n",
        "rf.fit(X_train, y_train)\n",
        "\n",
        "# 预测\n",
        "y_pred = rf.predict(X_test)\n",
        "\n",
        "# 评估\n",
        "print(\"Model: Random Forest\")\n",
        "print(\"Confusion Matrix:\")\n",
        "print(confusion_matrix(y_test, y_pred))\n",
        "print(\"Accuracy Score:\", accuracy_score(y_test, y_pred))\n",
        "print(\"Precision Score:\", precision_score(y_test, y_pred))\n",
        "print(\"Recall Score:\", recall_score(y_test, y_pred))\n",
        "print(\"F1 Score:\", f1_score(y_test, y_pred))\n"
      ],
      "metadata": {
        "id": "kOS_gJzvhx2I"
      },
      "execution_count": null,
      "outputs": []
    },
    {
      "cell_type": "markdown",
      "source": [
        "## c) Decision Tree"
      ],
      "metadata": {
        "id": "f8AeO9-vMGcm"
      }
    },
    {
      "cell_type": "code",
      "source": [
        "# 训练模型\n",
        "dt = DecisionTreeClassifier()\n",
        "dt.fit(X_train, y_train)\n",
        "\n",
        "# 预测\n",
        "y_pred = dt.predict(X_test)\n",
        "\n",
        "# 评估\n",
        "print(\"Model: Decision Tree\")\n",
        "print(\"Confusion Matrix:\")\n",
        "print(confusion_matrix(y_test, y_pred))\n",
        "print(\"Accuracy Score:\", accuracy_score(y_test, y_pred))\n",
        "print(\"Precision Score:\", precision_score(y_test, y_pred))\n",
        "print(\"Recall Score:\", recall_score(y_test, y_pred))\n",
        "print(\"F1 Score:\", f1_score(y_test, y_pred))\n"
      ],
      "metadata": {
        "id": "o_HNomJRh5I-"
      },
      "execution_count": null,
      "outputs": []
    },
    {
      "cell_type": "markdown",
      "source": [
        "## d) Kernel SVM"
      ],
      "metadata": {
        "id": "5X9mOVhuMI_9"
      }
    },
    {
      "cell_type": "code",
      "source": [
        "# 训练模型\n",
        "svm = SVC(kernel='rbf', probability=True)\n",
        "svm.fit(X_train, y_train)\n",
        "\n",
        "# 预测\n",
        "y_pred = svm.predict(X_test)\n",
        "\n",
        "# 评估\n",
        "print(\"Model: Kernel SVM\")\n",
        "print(\"Confusion Matrix:\")\n",
        "print(confusion_matrix(y_test, y_pred))\n",
        "print(\"Accuracy Score:\", accuracy_score(y_test, y_pred))\n",
        "print(\"Precision Score:\", precision_score(y_test, y_pred))\n",
        "print(\"Recall Score:\", recall_score(y_test, y_pred))\n",
        "print(\"F1 Score:\", f1_score(y_test, y_pred))\n"
      ],
      "metadata": {
        "id": "7ytr1jqYiD4c"
      },
      "execution_count": null,
      "outputs": []
    },
    {
      "cell_type": "markdown",
      "source": [
        "## e) KNN"
      ],
      "metadata": {
        "id": "-WB0h1cjMLpA"
      }
    },
    {
      "cell_type": "code",
      "source": [
        "# 训练模型\n",
        "knn = KNeighborsClassifier()\n",
        "knn.fit(X_train, y_train)\n",
        "\n",
        "# 预测\n",
        "y_pred = knn.predict(X_test)\n",
        "\n",
        "# 评估\n",
        "print(\"Model: KNN\")\n",
        "print(\"Confusion Matrix:\")\n",
        "print(confusion_matrix(y_test, y_pred))\n",
        "print(\"Accuracy Score:\", accuracy_score(y_test, y_pred))\n",
        "print(\"Precision Score:\", precision_score(y_test, y_pred))\n",
        "print(\"Recall Score:\", recall_score(y_test, y_pred))\n",
        "print(\"F1 Score:\", f1_score(y_test, y_pred))\n"
      ],
      "metadata": {
        "id": "DGD-xgnKiHNK"
      },
      "execution_count": null,
      "outputs": []
    },
    {
      "cell_type": "markdown",
      "source": [
        "## f) ANN"
      ],
      "metadata": {
        "id": "Oec6H6NKMOTh"
      }
    },
    {
      "cell_type": "code",
      "source": [
        "# 训练模型\n",
        "ann = MLPClassifier()\n",
        "ann.fit(X_train, y_train)\n",
        "\n",
        "# 预测\n",
        "y_pred = ann.predict(X_test)\n",
        "\n",
        "# 评估\n",
        "print(\"Model: ANN\")\n",
        "print(\"Confusion Matrix:\")\n",
        "print(confusion_matrix(y_test, y_pred))\n",
        "print(\"Accuracy Score:\", accuracy_score(y_test, y_pred))\n",
        "print(\"Precision Score:\", precision_score(y_test, y_pred))\n",
        "print(\"Recall Score:\", recall_score(y_test, y_pred))\n",
        "print(\"F1 Score:\", f1_score(y_test, y_pred))\n"
      ],
      "metadata": {
        "id": "WcZ0-anciKmg"
      },
      "execution_count": null,
      "outputs": []
    },
    {
      "cell_type": "markdown",
      "source": [
        "## Model Validation"
      ],
      "metadata": {
        "id": "O5FdV7DNGlHH"
      }
    },
    {
      "cell_type": "markdown",
      "source": [
        "# 4. Model Evaluation"
      ],
      "metadata": {
        "id": "a2EOAvCCGG-6"
      }
    },
    {
      "cell_type": "code",
      "source": [],
      "metadata": {
        "id": "QwmKSh9OGyRP"
      },
      "execution_count": null,
      "outputs": []
    }
  ]
}